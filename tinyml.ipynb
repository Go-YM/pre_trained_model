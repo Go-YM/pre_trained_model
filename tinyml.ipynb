{
 "cells": [
  {
   "cell_type": "code",
   "execution_count": 2,
   "metadata": {},
   "outputs": [],
   "source": [
    "import librosa\n",
    "import os\n",
    "import numpy as np\n",
    "import tensorflow as tf\n",
    "from PIL import Image\n",
    "from tensorflow import keras\n",
    "from tensorflow.keras.models import load_model"
   ]
  },
  {
   "cell_type": "code",
   "execution_count": 45,
   "metadata": {},
   "outputs": [
    {
     "name": "stdout",
     "output_type": "stream",
     "text": [
      "['er_1.png', 'er_2.png', 'er_3.png', 'ok_1.png', 'ok_2.png', 'ok_3.png']\n",
      "1/1 [==============================] - 0s 71ms/step\n",
      "Error\n",
      "1/1 [==============================] - 0s 37ms/step\n",
      "Error\n",
      "1/1 [==============================] - 0s 38ms/step\n",
      "Error\n",
      "1/1 [==============================] - 0s 36ms/step\n",
      "Ok\n",
      "1/1 [==============================] - 0s 34ms/step\n",
      "Ok\n",
      "1/1 [==============================] - 0s 35ms/step\n",
      "Ok\n"
     ]
    }
   ],
   "source": [
    "audio_path = \"C:\\\\Users\\\\user\\\\Desktop\\\\TinyML\\\\test_audio\\\\\"\n",
    "\n",
    "path = \"C:\\\\Users\\\\user\\\\Desktop\\\\TinyML\\\\test_mel\\\\\"\n",
    "\n",
    "for filename in os.listdir(audio_path):\n",
    "    if filename.endswith(\".wav\"):  # 확장자가 .wav인 파일만 처리\n",
    "        audio_filepath = os.path.join(audio_path, filename)\n",
    "\n",
    "        # 음성 파일 불러오기\n",
    "        y, sr = librosa.load(audio_filepath, sr=None)\n",
    "\n",
    "        # MFCC 계산\n",
    "        mfcc = librosa.feature.mfcc(y=y, sr=sr, n_mfcc=13)  # n_mfcc는 MFCC의 개수\n",
    "\n",
    "        # 결과를 새로운 디렉토리에 저장\n",
    "        output_filename = os.path.splitext(filename)[0] + \"_mfcc.npy\"\n",
    "        output_filepath = os.path.join(path, output_filename)\n",
    "        np.save(output_filepath, mfcc)\n",
    "\n",
    "print(\"MFCC 변환 및 저장 완료!\")\n",
    "\n",
    "loaded_model = keras.models.load_model('C:\\\\Users\\\\user\\\\Desktop\\\\TinyML\\\\model.h5')\n",
    "\n",
    "\n",
    "file_list = os.listdir(path)\n",
    "print(file_list)\n",
    "\n",
    "for file in file_list:\n",
    "    img = Image.open(path+file)\n",
    "    img_array = np.array(img)\n",
    "    predictions = loaded_model.predict(tf.expand_dims(img_array,0))\n",
    "    if predictions[0][0] > 0.5:\n",
    "        print(\"Ok\")\n",
    "    else:\n",
    "        print(\"Error\")\n",
    "\n",
    "# img = Image.open(new_data)\n",
    "# img_array = np.array(img)\n",
    "# img_array = img_array.reshape (400, 1000, 4)\n",
    "# print(img_array.shape)\n",
    "\n",
    "# img_array = tf.expand_dims(img_array,0)\n",
    "# print(img_array.shape)\n",
    "\n",
    "# predictions = loaded_model.predict(img_array)\n",
    "# if predictions[0][0] > 0.5:\n",
    "#     print(\"Ok\")\n",
    "# else:\n",
    "#     print(\"Error\")"
   ]
  },
  {
   "cell_type": "code",
   "execution_count": null,
   "metadata": {},
   "outputs": [],
   "source": []
  }
 ],
 "metadata": {
  "kernelspec": {
   "display_name": "tinyml",
   "language": "python",
   "name": "python3"
  },
  "language_info": {
   "codemirror_mode": {
    "name": "ipython",
    "version": 3
   },
   "file_extension": ".py",
   "mimetype": "text/x-python",
   "name": "python",
   "nbconvert_exporter": "python",
   "pygments_lexer": "ipython3",
   "version": "3.9.18"
  }
 },
 "nbformat": 4,
 "nbformat_minor": 2
}
